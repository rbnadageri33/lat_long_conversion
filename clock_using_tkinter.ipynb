{
 "cells": [
  {
   "cell_type": "code",
   "execution_count": null,
   "metadata": {},
   "outputs": [],
   "source": [
    "from tkinter import *\n",
    "from tkinter.ttk import *\n",
    "\n",
    "from time import strftime\n",
    "\n",
    "window = Tk()\n",
    "window.title('Clock')\n",
    "\n",
    "def time():\n",
    "    string = strftime('%A:%H:%M:%S %p')\n",
    "    label.config(text=string)\n",
    "    label.after(1000,time)\n",
    "\n",
    "\n",
    "\n",
    "label = Label(window,font=('ds-digital',40),background='black',foreground='cyan')\n",
    "label.pack()\n",
    "time()\n",
    "mainloop()"
   ]
  },
  {
   "cell_type": "code",
   "execution_count": 4,
   "id": "256c30f4",
   "metadata": {},
   "outputs": [
    {
     "name": "stdout",
     "output_type": "stream",
     "text": [
      "2\n",
      "4\n",
      "6\n",
      "8\n",
      "we have 4 even numbers\n"
     ]
    }
   ],
   "source": [
    "count = 0\n",
    "\n",
    "for number in range(1,10):\n",
    "    if number % 2 == 0:\n",
    "        count += 1\n",
    "        print(number)\n",
    "\n",
    "print(\"we have {} even numbers\".format(count))"
   ]
  },
  {
   "cell_type": "code",
   "execution_count": null,
   "id": "7e77e563",
   "metadata": {},
   "outputs": [],
   "source": [
    "from tkinter import *\n",
    "from tkinter.ttk import *\n",
    "\n",
    "from time import strftime\n",
    "\n",
    "\n",
    "window = Tk()\n",
    "window.title('CLOCK')\n",
    "\n",
    "def time():\n",
    "    string = strftime('%A:%h:%m%S %p')\n",
    "    label.config(text = string)\n",
    "    label.after(100,time)\n",
    "\n",
    "\n",
    "\n",
    "label = Label(window, background= 'black', foreground = 'white',font=('ds-digital',40))\n",
    "\n",
    "\n",
    "label.pack()\n",
    "time()\n",
    "mainloop()\n"
   ]
  },
  {
   "cell_type": "code",
   "execution_count": 2,
   "id": "faaa9788",
   "metadata": {},
   "outputs": [
    {
     "name": "stdout",
     "output_type": "stream",
     "text": [
      "0\n",
      "2\n",
      "4\n",
      "6\n",
      "8\n",
      "10\n",
      "there are total 6 even numbers in above list\n"
     ]
    }
   ],
   "source": [
    "count = 0\n",
    "\n",
    "\n",
    "for x in range(0,12):\n",
    "    if x % 2 == 0:\n",
    "        count += 1\n",
    "        print(x)\n",
    "print(f'there are total {count} even numbers in above list')"
   ]
  },
  {
   "cell_type": "code",
   "execution_count": null,
   "id": "999d4ff0",
   "metadata": {},
   "outputs": [],
   "source": [
    "count = 0 \n",
    "\n",
    "while count < 13:\n",
    "    for i in range(0,30):\n",
    "        if i % 5 == 0:\n",
    "            print(i)\n",
    "    count += 1\n",
    "print('there are total',count)"
   ]
  },
  {
   "cell_type": "code",
   "execution_count": null,
   "id": "ac8e17d0",
   "metadata": {},
   "outputs": [],
   "source": [
    "from tkinter import *\n",
    "from tkinter.ttk import *\n",
    "from time import strftime\n",
    "\n",
    "root = Tk()\n",
    "root.title('My Clock')\n",
    "\n",
    "def time():\n",
    "    string = strftime('%H:%M:%S %p')\n",
    "    label.config(text=string)\n",
    "    label.after(1000,time)\n",
    "    \n",
    "\n",
    "label = Label(root, text=('ds-digital',200),background='black',foreground='red')\n",
    "label.pack()\n",
    "time()\n",
    "mainloop()"
   ]
  },
  {
   "cell_type": "code",
   "execution_count": 2,
   "id": "d453fbbb",
   "metadata": {},
   "outputs": [],
   "source": [
    "from tkinter import *\n",
    "from tkinter.ttk import *\n",
    "\n",
    "from time import strftime\n",
    "\n",
    "root = Tk()\n",
    "root.title('My Digi Clock')\n",
    "\n",
    "def time():\n",
    "    string = strftime('%H:%M:%S %p')\n",
    "    label.after(1000,time)\n",
    "    label.config(text=string)\n",
    "\n",
    "label = Label(root,foreground='black',background='red',font=('ms-digital',80))\n",
    "time()\n",
    "label.pack()\n",
    "mainloop()\n"
   ]
  },
  {
   "cell_type": "code",
   "execution_count": null,
   "id": "7ec346bf",
   "metadata": {},
   "outputs": [],
   "source": []
  }
 ],
 "metadata": {
  "kernelspec": {
   "display_name": "Python 3",
   "language": "python",
   "name": "python3"
  },
  "language_info": {
   "codemirror_mode": {
    "name": "ipython",
    "version": 3
   },
   "file_extension": ".py",
   "mimetype": "text/x-python",
   "name": "python",
   "nbconvert_exporter": "python",
   "pygments_lexer": "ipython3",
   "version": "3.10.6"
  },
  "vscode": {
   "interpreter": {
    "hash": "a79c033472556955bf7bc972dadfc28751fe93ccf05084c8e6ce1930f995b37a"
   }
  }
 },
 "nbformat": 4,
 "nbformat_minor": 5
}
